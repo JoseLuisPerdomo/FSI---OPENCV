{
 "cells": [
  {
   "cell_type": "code",
   "execution_count": 2,
   "id": "initial_id",
   "metadata": {
    "collapsed": true,
    "ExecuteTime": {
     "end_time": "2023-12-19T10:51:34.647518900Z",
     "start_time": "2023-12-19T10:51:17.612320400Z"
    }
   },
   "outputs": [],
   "source": [
    "import cv2\n",
    "import random\n",
    "\n",
    "body_cascade = cv2.CascadeClassifier('haarcascade_fullbody.xml')\n",
    "video = cv2.VideoCapture(\"people_walking.mp4\")\n",
    "umbral_tamano = [11000, 2000]\n",
    "\n",
    "people_tracking = {}\n",
    "\n",
    "i = 0\n",
    "\n",
    "while True:\n",
    "    _, frame_color = video.read()\n",
    "\n",
    "    if not _:\n",
    "        break\n",
    "\n",
    "    frame_display = frame_color.copy()\n",
    "\n",
    "    frame_gray = cv2.cvtColor(frame_color, cv2.COLOR_BGR2GRAY)\n",
    "\n",
    "    bodies = body_cascade.detectMultiScale(frame_gray)\n",
    "    \n",
    "\n",
    "    for (x, y, w, h) in bodies:\n",
    "\n",
    "        if w * h > umbral_tamano[0] or w * h < umbral_tamano[1]:\n",
    "            continue\n",
    "\n",
    "        person_id = (x, y, x+w, y+h)\n",
    "        \n",
    "        if person_id not in people_tracking:\n",
    "            color = (random.randint(0, 255), random.randint(0, 255), random.randint(0, 255))\n",
    "            people_tracking[person_id] = {'color': color, 'roi': frame_gray[y:y+h, x:x+w]}\n",
    "            cv2.rectangle(frame_display, (x, y), (x+w, y+h), color, 2)\n",
    "            \n",
    "        #else:\n",
    "            #cv2.rectangle(frame_display, (x, y), (x+w, y+h), people_tracking[person_id], 2)\n",
    "        #else:\n",
    "            #for key in people_tracking.keys():\n",
    "                #res = cv2.matchTemplate(frame_gray,people_tracking[key]['roi'],cv2.TM_CCOEFF_NORMED)\n",
    "                #_, max_val, _, max_loc = cv2.minMaxLoc(res)\n",
    "                #if max_val < 0.8:\n",
    "                    #continue\n",
    "                #top_left = max_loc\n",
    "                #bottom_right = (top_left[0] + w, top_left[1] + h)\n",
    "                #cv2.rectangle(frame_display,top_left, bottom_right, people_tracking[key]['color'], 2)\n",
    "\n",
    "    cv2.imshow('Video', frame_display)\n",
    "\n",
    "    if cv2.waitKey(25) & 0xFF == ord('q'):\n",
    "        break\n",
    "\n",
    "\n",
    "video.release()\n",
    "cv2.destroyAllWindows()\n"
   ]
  },
  {
   "cell_type": "code",
   "execution_count": null,
   "outputs": [],
   "source": [],
   "metadata": {
    "collapsed": false
   },
   "id": "8464eb30cfc5538e"
  }
 ],
 "metadata": {
  "kernelspec": {
   "display_name": "Python 3",
   "language": "python",
   "name": "python3"
  },
  "language_info": {
   "codemirror_mode": {
    "name": "ipython",
    "version": 2
   },
   "file_extension": ".py",
   "mimetype": "text/x-python",
   "name": "python",
   "nbconvert_exporter": "python",
   "pygments_lexer": "ipython2",
   "version": "2.7.6"
  }
 },
 "nbformat": 4,
 "nbformat_minor": 5
}
